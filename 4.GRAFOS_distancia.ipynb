{
 "cells": [
  {
   "cell_type": "code",
   "execution_count": 26,
   "metadata": {},
   "outputs": [],
   "source": [
    "import pandas as pd\n",
    "from pandas import DataFrame\n",
    "import glob\n",
    "import os\n",
    "import numpy as np\n",
    "from datetime import datetime\n",
    "import datetime as dt\n",
    "import matplotlib.pyplot as plt\n",
    "import warnings\n",
    "warnings.filterwarnings('ignore')\n",
    "from scipy.spatial.distance import squareform, pdist\n",
    "import networkx as nx\n",
    "from networkx.readwrite import json_graph\n",
    "import json\n",
    "\n",
    "from pandas.io.json import json_normalize"
   ]
  },
  {
   "cell_type": "code",
   "execution_count": 27,
   "metadata": {},
   "outputs": [],
   "source": [
    "df = pd.read_pickle(\"df_tsne_cluster_goya.pkl\")"
   ]
  },
  {
   "cell_type": "code",
   "execution_count": 28,
   "metadata": {},
   "outputs": [],
   "source": [
    "df['Imagen2']=\"img/\"+df['file_name']+\".jpg!Large.jpg\""
   ]
  },
  {
   "cell_type": "code",
   "execution_count": 29,
   "metadata": {},
   "outputs": [],
   "source": [
    "df.rename({'Imagen2': 'image'}, axis=1, inplace=True)"
   ]
  },
  {
   "cell_type": "code",
   "execution_count": 30,
   "metadata": {},
   "outputs": [
    {
     "data": {
      "text/html": [
       "<div>\n",
       "<style scoped>\n",
       "    .dataframe tbody tr th:only-of-type {\n",
       "        vertical-align: middle;\n",
       "    }\n",
       "\n",
       "    .dataframe tbody tr th {\n",
       "        vertical-align: top;\n",
       "    }\n",
       "\n",
       "    .dataframe thead th {\n",
       "        text-align: right;\n",
       "    }\n",
       "</style>\n",
       "<table border=\"1\" class=\"dataframe\">\n",
       "  <thead>\n",
       "    <tr style=\"text-align: right;\">\n",
       "      <th></th>\n",
       "      <th>Ref_ID</th>\n",
       "      <th>tsne1</th>\n",
       "      <th>tsne2</th>\n",
       "      <th>Cluster</th>\n",
       "      <th>file_name</th>\n",
       "      <th>genre</th>\n",
       "      <th>url</th>\n",
       "      <th>image</th>\n",
       "    </tr>\n",
       "  </thead>\n",
       "  <tbody>\n",
       "    <tr>\n",
       "      <th>0</th>\n",
       "      <td>0_the-esquilache-riots.jpg!Large.jpg</td>\n",
       "      <td>8.333446</td>\n",
       "      <td>-44.674519</td>\n",
       "      <td>1</td>\n",
       "      <td>0_the-esquilache-riots.jpg!Large.jpg</td>\n",
       "      <td>history painting</td>\n",
       "      <td>https://www.wikiart.org/en/francisco-goya/the-...</td>\n",
       "      <td>img/0_the-esquilache-riots.jpg!Large.jpg.jpg!L...</td>\n",
       "    </tr>\n",
       "    <tr>\n",
       "      <th>1</th>\n",
       "      <td>100_they-sing-for-the-composer.jpg!Large.jpg</td>\n",
       "      <td>-17.919098</td>\n",
       "      <td>-1.251708</td>\n",
       "      <td>4</td>\n",
       "      <td>100_they-sing-for-the-composer.jpg!Large.jpg</td>\n",
       "      <td>genre painting</td>\n",
       "      <td>https://www.wikiart.org/en/francisco-goya/trip...</td>\n",
       "      <td>img/100_they-sing-for-the-composer.jpg!Large.j...</td>\n",
       "    </tr>\n",
       "    <tr>\n",
       "      <th>2</th>\n",
       "      <td>101_woman-battered-with-a-cane.jpg!Large.jpg</td>\n",
       "      <td>48.121220</td>\n",
       "      <td>-31.482098</td>\n",
       "      <td>2</td>\n",
       "      <td>101_woman-battered-with-a-cane.jpg!Large.jpg</td>\n",
       "      <td>mythological painting</td>\n",
       "      <td>https://www.wikiart.org/en/francisco-goya/the-...</td>\n",
       "      <td>img/101_woman-battered-with-a-cane.jpg!Large.j...</td>\n",
       "    </tr>\n",
       "    <tr>\n",
       "      <th>3</th>\n",
       "      <td>102_mariana-waldstein-ninth-marquesa-de-santa-...</td>\n",
       "      <td>-2.181302</td>\n",
       "      <td>-34.985844</td>\n",
       "      <td>1</td>\n",
       "      <td>102_mariana-waldstein-ninth-marquesa-de-santa-...</td>\n",
       "      <td>history painting</td>\n",
       "      <td>https://www.wikiart.org/en/francisco-goya/hani...</td>\n",
       "      <td>img/102_mariana-waldstein-ninth-marquesa-de-sa...</td>\n",
       "    </tr>\n",
       "    <tr>\n",
       "      <th>4</th>\n",
       "      <td>103_incantation.jpg!Large.jpg</td>\n",
       "      <td>12.096787</td>\n",
       "      <td>33.550594</td>\n",
       "      <td>0</td>\n",
       "      <td>103_incantation.jpg!Large.jpg</td>\n",
       "      <td>mythological painting</td>\n",
       "      <td>https://www.wikiart.org/en/francisco-goya/the-...</td>\n",
       "      <td>img/103_incantation.jpg!Large.jpg.jpg!Large.jpg</td>\n",
       "    </tr>\n",
       "  </tbody>\n",
       "</table>\n",
       "</div>"
      ],
      "text/plain": [
       "                                              Ref_ID      tsne1      tsne2  \\\n",
       "0               0_the-esquilache-riots.jpg!Large.jpg   8.333446 -44.674519   \n",
       "1       100_they-sing-for-the-composer.jpg!Large.jpg -17.919098  -1.251708   \n",
       "2       101_woman-battered-with-a-cane.jpg!Large.jpg  48.121220 -31.482098   \n",
       "3  102_mariana-waldstein-ninth-marquesa-de-santa-...  -2.181302 -34.985844   \n",
       "4                      103_incantation.jpg!Large.jpg  12.096787  33.550594   \n",
       "\n",
       "   Cluster                                          file_name  \\\n",
       "0        1               0_the-esquilache-riots.jpg!Large.jpg   \n",
       "1        4       100_they-sing-for-the-composer.jpg!Large.jpg   \n",
       "2        2       101_woman-battered-with-a-cane.jpg!Large.jpg   \n",
       "3        1  102_mariana-waldstein-ninth-marquesa-de-santa-...   \n",
       "4        0                      103_incantation.jpg!Large.jpg   \n",
       "\n",
       "                   genre                                                url  \\\n",
       "0       history painting  https://www.wikiart.org/en/francisco-goya/the-...   \n",
       "1         genre painting  https://www.wikiart.org/en/francisco-goya/trip...   \n",
       "2  mythological painting  https://www.wikiart.org/en/francisco-goya/the-...   \n",
       "3       history painting  https://www.wikiart.org/en/francisco-goya/hani...   \n",
       "4  mythological painting  https://www.wikiart.org/en/francisco-goya/the-...   \n",
       "\n",
       "                                               image  \n",
       "0  img/0_the-esquilache-riots.jpg!Large.jpg.jpg!L...  \n",
       "1  img/100_they-sing-for-the-composer.jpg!Large.j...  \n",
       "2  img/101_woman-battered-with-a-cane.jpg!Large.j...  \n",
       "3  img/102_mariana-waldstein-ninth-marquesa-de-sa...  \n",
       "4    img/103_incantation.jpg!Large.jpg.jpg!Large.jpg  "
      ]
     },
     "execution_count": 30,
     "metadata": {},
     "output_type": "execute_result"
    }
   ],
   "source": [
    "df.head()"
   ]
  },
  {
   "cell_type": "markdown",
   "metadata": {},
   "source": [
    "## Cálculo de la distancia Euclídea"
   ]
  },
  {
   "cell_type": "code",
   "execution_count": 31,
   "metadata": {},
   "outputs": [],
   "source": [
    "df1=df[['Ref_ID','tsne1','tsne2']]"
   ]
  },
  {
   "cell_type": "code",
   "execution_count": 32,
   "metadata": {},
   "outputs": [],
   "source": [
    "adj = pd.DataFrame(1/squareform(pdist(df1.iloc[:, 1:])), columns=df.index, index=df1.index)"
   ]
  },
  {
   "cell_type": "code",
   "execution_count": 33,
   "metadata": {},
   "outputs": [
    {
     "data": {
      "text/html": [
       "<div>\n",
       "<style scoped>\n",
       "    .dataframe tbody tr th:only-of-type {\n",
       "        vertical-align: middle;\n",
       "    }\n",
       "\n",
       "    .dataframe tbody tr th {\n",
       "        vertical-align: top;\n",
       "    }\n",
       "\n",
       "    .dataframe thead th {\n",
       "        text-align: right;\n",
       "    }\n",
       "</style>\n",
       "<table border=\"1\" class=\"dataframe\">\n",
       "  <thead>\n",
       "    <tr style=\"text-align: right;\">\n",
       "      <th></th>\n",
       "      <th>0</th>\n",
       "      <th>1</th>\n",
       "      <th>2</th>\n",
       "      <th>3</th>\n",
       "      <th>4</th>\n",
       "      <th>5</th>\n",
       "      <th>6</th>\n",
       "      <th>7</th>\n",
       "      <th>8</th>\n",
       "      <th>9</th>\n",
       "      <th>...</th>\n",
       "      <th>396</th>\n",
       "      <th>397</th>\n",
       "      <th>398</th>\n",
       "      <th>399</th>\n",
       "      <th>400</th>\n",
       "      <th>401</th>\n",
       "      <th>402</th>\n",
       "      <th>403</th>\n",
       "      <th>404</th>\n",
       "      <th>405</th>\n",
       "    </tr>\n",
       "  </thead>\n",
       "  <tbody>\n",
       "    <tr>\n",
       "      <th>0</th>\n",
       "      <td>inf</td>\n",
       "      <td>0.019708</td>\n",
       "      <td>0.023856</td>\n",
       "      <td>0.069940</td>\n",
       "      <td>0.012769</td>\n",
       "      <td>0.021253</td>\n",
       "      <td>0.023676</td>\n",
       "      <td>0.194749</td>\n",
       "      <td>0.069327</td>\n",
       "      <td>0.020715</td>\n",
       "      <td>...</td>\n",
       "      <td>0.086257</td>\n",
       "      <td>0.012679</td>\n",
       "      <td>0.020556</td>\n",
       "      <td>0.023627</td>\n",
       "      <td>0.020827</td>\n",
       "      <td>0.020260</td>\n",
       "      <td>0.023458</td>\n",
       "      <td>0.012873</td>\n",
       "      <td>0.071217</td>\n",
       "      <td>0.013177</td>\n",
       "    </tr>\n",
       "    <tr>\n",
       "      <th>1</th>\n",
       "      <td>0.019708</td>\n",
       "      <td>inf</td>\n",
       "      <td>0.013768</td>\n",
       "      <td>0.026864</td>\n",
       "      <td>0.021759</td>\n",
       "      <td>0.267809</td>\n",
       "      <td>0.013641</td>\n",
       "      <td>0.021345</td>\n",
       "      <td>0.026611</td>\n",
       "      <td>0.017388</td>\n",
       "      <td>...</td>\n",
       "      <td>0.024941</td>\n",
       "      <td>0.021576</td>\n",
       "      <td>0.477438</td>\n",
       "      <td>0.013714</td>\n",
       "      <td>0.017322</td>\n",
       "      <td>0.016663</td>\n",
       "      <td>0.013653</td>\n",
       "      <td>0.022470</td>\n",
       "      <td>0.026700</td>\n",
       "      <td>0.022900</td>\n",
       "    </tr>\n",
       "    <tr>\n",
       "      <th>2</th>\n",
       "      <td>0.023856</td>\n",
       "      <td>0.013768</td>\n",
       "      <td>inf</td>\n",
       "      <td>0.019832</td>\n",
       "      <td>0.013451</td>\n",
       "      <td>0.014298</td>\n",
       "      <td>1.374660</td>\n",
       "      <td>0.021714</td>\n",
       "      <td>0.019499</td>\n",
       "      <td>0.011104</td>\n",
       "      <td>...</td>\n",
       "      <td>0.020302</td>\n",
       "      <td>0.013359</td>\n",
       "      <td>0.014094</td>\n",
       "      <td>2.454390</td>\n",
       "      <td>0.011133</td>\n",
       "      <td>0.010961</td>\n",
       "      <td>1.381117</td>\n",
       "      <td>0.013401</td>\n",
       "      <td>0.019908</td>\n",
       "      <td>0.013768</td>\n",
       "    </tr>\n",
       "    <tr>\n",
       "      <th>3</th>\n",
       "      <td>0.069940</td>\n",
       "      <td>0.026864</td>\n",
       "      <td>0.019832</td>\n",
       "      <td>inf</td>\n",
       "      <td>0.014284</td>\n",
       "      <td>0.029856</td>\n",
       "      <td>0.019649</td>\n",
       "      <td>0.102469</td>\n",
       "      <td>0.908155</td>\n",
       "      <td>0.023981</td>\n",
       "      <td>...</td>\n",
       "      <td>0.347533</td>\n",
       "      <td>0.014176</td>\n",
       "      <td>0.028461</td>\n",
       "      <td>0.019680</td>\n",
       "      <td>0.024055</td>\n",
       "      <td>0.023053</td>\n",
       "      <td>0.019552</td>\n",
       "      <td>0.014463</td>\n",
       "      <td>3.883863</td>\n",
       "      <td>0.014813</td>\n",
       "    </tr>\n",
       "    <tr>\n",
       "      <th>4</th>\n",
       "      <td>0.012769</td>\n",
       "      <td>0.021759</td>\n",
       "      <td>0.013451</td>\n",
       "      <td>0.014284</td>\n",
       "      <td>inf</td>\n",
       "      <td>0.020942</td>\n",
       "      <td>0.013325</td>\n",
       "      <td>0.012996</td>\n",
       "      <td>0.014102</td>\n",
       "      <td>0.009803</td>\n",
       "      <td>...</td>\n",
       "      <td>0.013851</td>\n",
       "      <td>1.788014</td>\n",
       "      <td>0.021405</td>\n",
       "      <td>0.013441</td>\n",
       "      <td>0.009789</td>\n",
       "      <td>0.009577</td>\n",
       "      <td>0.013403</td>\n",
       "      <td>0.596644</td>\n",
       "      <td>0.014261</td>\n",
       "      <td>0.398496</td>\n",
       "    </tr>\n",
       "    <tr>\n",
       "      <th>...</th>\n",
       "      <td>...</td>\n",
       "      <td>...</td>\n",
       "      <td>...</td>\n",
       "      <td>...</td>\n",
       "      <td>...</td>\n",
       "      <td>...</td>\n",
       "      <td>...</td>\n",
       "      <td>...</td>\n",
       "      <td>...</td>\n",
       "      <td>...</td>\n",
       "      <td>...</td>\n",
       "      <td>...</td>\n",
       "      <td>...</td>\n",
       "      <td>...</td>\n",
       "      <td>...</td>\n",
       "      <td>...</td>\n",
       "      <td>...</td>\n",
       "      <td>...</td>\n",
       "      <td>...</td>\n",
       "      <td>...</td>\n",
       "      <td>...</td>\n",
       "    </tr>\n",
       "    <tr>\n",
       "      <th>401</th>\n",
       "      <td>0.020260</td>\n",
       "      <td>0.016663</td>\n",
       "      <td>0.010961</td>\n",
       "      <td>0.023053</td>\n",
       "      <td>0.009577</td>\n",
       "      <td>0.017433</td>\n",
       "      <td>0.010921</td>\n",
       "      <td>0.022104</td>\n",
       "      <td>0.023639</td>\n",
       "      <td>0.394401</td>\n",
       "      <td>...</td>\n",
       "      <td>0.023042</td>\n",
       "      <td>0.009535</td>\n",
       "      <td>0.017038</td>\n",
       "      <td>0.010912</td>\n",
       "      <td>0.437626</td>\n",
       "      <td>inf</td>\n",
       "      <td>0.010876</td>\n",
       "      <td>0.009695</td>\n",
       "      <td>0.023002</td>\n",
       "      <td>0.009807</td>\n",
       "    </tr>\n",
       "    <tr>\n",
       "      <th>402</th>\n",
       "      <td>0.023458</td>\n",
       "      <td>0.013653</td>\n",
       "      <td>1.381117</td>\n",
       "      <td>0.019552</td>\n",
       "      <td>0.013403</td>\n",
       "      <td>0.014171</td>\n",
       "      <td>1.517534</td>\n",
       "      <td>0.021380</td>\n",
       "      <td>0.019228</td>\n",
       "      <td>0.011016</td>\n",
       "      <td>...</td>\n",
       "      <td>0.020008</td>\n",
       "      <td>0.013312</td>\n",
       "      <td>0.013972</td>\n",
       "      <td>2.936614</td>\n",
       "      <td>0.011045</td>\n",
       "      <td>0.010876</td>\n",
       "      <td>inf</td>\n",
       "      <td>0.013351</td>\n",
       "      <td>0.019626</td>\n",
       "      <td>0.013715</td>\n",
       "    </tr>\n",
       "    <tr>\n",
       "      <th>403</th>\n",
       "      <td>0.012873</td>\n",
       "      <td>0.022470</td>\n",
       "      <td>0.013401</td>\n",
       "      <td>0.014463</td>\n",
       "      <td>0.596644</td>\n",
       "      <td>0.021571</td>\n",
       "      <td>0.013275</td>\n",
       "      <td>0.013121</td>\n",
       "      <td>0.014280</td>\n",
       "      <td>0.009928</td>\n",
       "      <td>...</td>\n",
       "      <td>0.014012</td>\n",
       "      <td>0.527231</td>\n",
       "      <td>0.022075</td>\n",
       "      <td>0.013389</td>\n",
       "      <td>0.009913</td>\n",
       "      <td>0.009695</td>\n",
       "      <td>0.013351</td>\n",
       "      <td>inf</td>\n",
       "      <td>0.014439</td>\n",
       "      <td>0.499102</td>\n",
       "    </tr>\n",
       "    <tr>\n",
       "      <th>404</th>\n",
       "      <td>0.071217</td>\n",
       "      <td>0.026700</td>\n",
       "      <td>0.019908</td>\n",
       "      <td>3.883863</td>\n",
       "      <td>0.014261</td>\n",
       "      <td>0.029653</td>\n",
       "      <td>0.019724</td>\n",
       "      <td>0.105118</td>\n",
       "      <td>0.852993</td>\n",
       "      <td>0.023920</td>\n",
       "      <td>...</td>\n",
       "      <td>0.378402</td>\n",
       "      <td>0.014153</td>\n",
       "      <td>0.028278</td>\n",
       "      <td>0.019755</td>\n",
       "      <td>0.023995</td>\n",
       "      <td>0.023002</td>\n",
       "      <td>0.019626</td>\n",
       "      <td>0.014439</td>\n",
       "      <td>inf</td>\n",
       "      <td>0.014788</td>\n",
       "    </tr>\n",
       "    <tr>\n",
       "      <th>405</th>\n",
       "      <td>0.013177</td>\n",
       "      <td>0.022900</td>\n",
       "      <td>0.013768</td>\n",
       "      <td>0.014813</td>\n",
       "      <td>0.398496</td>\n",
       "      <td>0.022030</td>\n",
       "      <td>0.013635</td>\n",
       "      <td>0.013426</td>\n",
       "      <td>0.014618</td>\n",
       "      <td>0.010044</td>\n",
       "      <td>...</td>\n",
       "      <td>0.014346</td>\n",
       "      <td>0.329650</td>\n",
       "      <td>0.022529</td>\n",
       "      <td>0.013756</td>\n",
       "      <td>0.010030</td>\n",
       "      <td>0.009807</td>\n",
       "      <td>0.013715</td>\n",
       "      <td>0.499102</td>\n",
       "      <td>0.014788</td>\n",
       "      <td>inf</td>\n",
       "    </tr>\n",
       "  </tbody>\n",
       "</table>\n",
       "<p>406 rows × 406 columns</p>\n",
       "</div>"
      ],
      "text/plain": [
       "          0         1         2         3         4         5         6    \\\n",
       "0         inf  0.019708  0.023856  0.069940  0.012769  0.021253  0.023676   \n",
       "1    0.019708       inf  0.013768  0.026864  0.021759  0.267809  0.013641   \n",
       "2    0.023856  0.013768       inf  0.019832  0.013451  0.014298  1.374660   \n",
       "3    0.069940  0.026864  0.019832       inf  0.014284  0.029856  0.019649   \n",
       "4    0.012769  0.021759  0.013451  0.014284       inf  0.020942  0.013325   \n",
       "..        ...       ...       ...       ...       ...       ...       ...   \n",
       "401  0.020260  0.016663  0.010961  0.023053  0.009577  0.017433  0.010921   \n",
       "402  0.023458  0.013653  1.381117  0.019552  0.013403  0.014171  1.517534   \n",
       "403  0.012873  0.022470  0.013401  0.014463  0.596644  0.021571  0.013275   \n",
       "404  0.071217  0.026700  0.019908  3.883863  0.014261  0.029653  0.019724   \n",
       "405  0.013177  0.022900  0.013768  0.014813  0.398496  0.022030  0.013635   \n",
       "\n",
       "          7         8         9    ...       396       397       398  \\\n",
       "0    0.194749  0.069327  0.020715  ...  0.086257  0.012679  0.020556   \n",
       "1    0.021345  0.026611  0.017388  ...  0.024941  0.021576  0.477438   \n",
       "2    0.021714  0.019499  0.011104  ...  0.020302  0.013359  0.014094   \n",
       "3    0.102469  0.908155  0.023981  ...  0.347533  0.014176  0.028461   \n",
       "4    0.012996  0.014102  0.009803  ...  0.013851  1.788014  0.021405   \n",
       "..        ...       ...       ...  ...       ...       ...       ...   \n",
       "401  0.022104  0.023639  0.394401  ...  0.023042  0.009535  0.017038   \n",
       "402  0.021380  0.019228  0.011016  ...  0.020008  0.013312  0.013972   \n",
       "403  0.013121  0.014280  0.009928  ...  0.014012  0.527231  0.022075   \n",
       "404  0.105118  0.852993  0.023920  ...  0.378402  0.014153  0.028278   \n",
       "405  0.013426  0.014618  0.010044  ...  0.014346  0.329650  0.022529   \n",
       "\n",
       "          399       400       401       402       403       404       405  \n",
       "0    0.023627  0.020827  0.020260  0.023458  0.012873  0.071217  0.013177  \n",
       "1    0.013714  0.017322  0.016663  0.013653  0.022470  0.026700  0.022900  \n",
       "2    2.454390  0.011133  0.010961  1.381117  0.013401  0.019908  0.013768  \n",
       "3    0.019680  0.024055  0.023053  0.019552  0.014463  3.883863  0.014813  \n",
       "4    0.013441  0.009789  0.009577  0.013403  0.596644  0.014261  0.398496  \n",
       "..        ...       ...       ...       ...       ...       ...       ...  \n",
       "401  0.010912  0.437626       inf  0.010876  0.009695  0.023002  0.009807  \n",
       "402  2.936614  0.011045  0.010876       inf  0.013351  0.019626  0.013715  \n",
       "403  0.013389  0.009913  0.009695  0.013351       inf  0.014439  0.499102  \n",
       "404  0.019755  0.023995  0.023002  0.019626  0.014439       inf  0.014788  \n",
       "405  0.013756  0.010030  0.009807  0.013715  0.499102  0.014788       inf  \n",
       "\n",
       "[406 rows x 406 columns]"
      ]
     },
     "execution_count": 33,
     "metadata": {},
     "output_type": "execute_result"
    }
   ],
   "source": [
    "adj"
   ]
  },
  {
   "cell_type": "code",
   "execution_count": 34,
   "metadata": {},
   "outputs": [],
   "source": [
    "adj.replace(np.inf, 0, inplace=True)"
   ]
  },
  {
   "cell_type": "code",
   "execution_count": 35,
   "metadata": {},
   "outputs": [
    {
     "data": {
      "text/plain": [
       "0.02649344621785379"
      ]
     },
     "execution_count": 35,
     "metadata": {},
     "output_type": "execute_result"
    }
   ],
   "source": [
    "np.quantile(adj.dropna().values,0.75)"
   ]
  },
  {
   "cell_type": "code",
   "execution_count": 36,
   "metadata": {},
   "outputs": [],
   "source": [
    "adj[adj<0.1] = 0"
   ]
  },
  {
   "cell_type": "code",
   "execution_count": 37,
   "metadata": {},
   "outputs": [],
   "source": [
    "labels = dict()"
   ]
  },
  {
   "cell_type": "markdown",
   "metadata": {},
   "source": [
    "## Añadimos al Nodo el nombre de la pintura"
   ]
  },
  {
   "cell_type": "code",
   "execution_count": 38,
   "metadata": {},
   "outputs": [],
   "source": [
    "for index, row in df.iterrows():\n",
    "    labels[index]=row['Ref_ID']"
   ]
  },
  {
   "cell_type": "markdown",
   "metadata": {},
   "source": [
    "## Inicializamos el Grafo"
   ]
  },
  {
   "cell_type": "code",
   "execution_count": 39,
   "metadata": {},
   "outputs": [],
   "source": [
    "G = nx.Graph()"
   ]
  },
  {
   "cell_type": "code",
   "execution_count": 40,
   "metadata": {},
   "outputs": [],
   "source": [
    "G = nx.from_numpy_matrix(adj.to_numpy(), parallel_edges=False, create_using=G)"
   ]
  },
  {
   "cell_type": "code",
   "execution_count": 41,
   "metadata": {},
   "outputs": [],
   "source": [
    "node=1\n",
    "for u in G.nodes():\n",
    "    G.nodes[u]['nombre']=labels[node-1]\n",
    "    node=node+1"
   ]
  },
  {
   "cell_type": "code",
   "execution_count": 42,
   "metadata": {},
   "outputs": [
    {
     "data": {
      "text/plain": [
       "{'nombre': '100_they-sing-for-the-composer.jpg!Large.jpg'}"
      ]
     },
     "execution_count": 42,
     "metadata": {},
     "output_type": "execute_result"
    }
   ],
   "source": [
    "G.nodes[1]"
   ]
  },
  {
   "cell_type": "markdown",
   "metadata": {},
   "source": [
    "## Añadimos al Nodo la información del Cluster"
   ]
  },
  {
   "cell_type": "code",
   "execution_count": 43,
   "metadata": {},
   "outputs": [],
   "source": [
    "for index, row in df.iterrows():\n",
    "    labels[index]=row['Cluster']"
   ]
  },
  {
   "cell_type": "code",
   "execution_count": 44,
   "metadata": {},
   "outputs": [],
   "source": [
    "node=1\n",
    "for u in G.nodes():\n",
    "    G.nodes[u]['Cluster']=labels[node-1]\n",
    "    node=node+1"
   ]
  },
  {
   "cell_type": "code",
   "execution_count": 45,
   "metadata": {},
   "outputs": [
    {
     "data": {
      "text/plain": [
       "{'nombre': '100_they-sing-for-the-composer.jpg!Large.jpg', 'Cluster': 4}"
      ]
     },
     "execution_count": 45,
     "metadata": {},
     "output_type": "execute_result"
    }
   ],
   "source": [
    "G.nodes[1]"
   ]
  },
  {
   "cell_type": "code",
   "execution_count": 46,
   "metadata": {},
   "outputs": [
    {
     "data": {
      "text/html": [
       "<div>\n",
       "<style scoped>\n",
       "    .dataframe tbody tr th:only-of-type {\n",
       "        vertical-align: middle;\n",
       "    }\n",
       "\n",
       "    .dataframe tbody tr th {\n",
       "        vertical-align: top;\n",
       "    }\n",
       "\n",
       "    .dataframe thead th {\n",
       "        text-align: right;\n",
       "    }\n",
       "</style>\n",
       "<table border=\"1\" class=\"dataframe\">\n",
       "  <thead>\n",
       "    <tr style=\"text-align: right;\">\n",
       "      <th></th>\n",
       "      <th>Ref_ID</th>\n",
       "      <th>tsne1</th>\n",
       "      <th>tsne2</th>\n",
       "      <th>Cluster</th>\n",
       "      <th>file_name</th>\n",
       "      <th>genre</th>\n",
       "      <th>url</th>\n",
       "      <th>image</th>\n",
       "    </tr>\n",
       "  </thead>\n",
       "  <tbody>\n",
       "    <tr>\n",
       "      <th>0</th>\n",
       "      <td>0_the-esquilache-riots.jpg!Large.jpg</td>\n",
       "      <td>8.333446</td>\n",
       "      <td>-44.674519</td>\n",
       "      <td>1</td>\n",
       "      <td>0_the-esquilache-riots.jpg!Large.jpg</td>\n",
       "      <td>history painting</td>\n",
       "      <td>https://www.wikiart.org/en/francisco-goya/the-...</td>\n",
       "      <td>img/0_the-esquilache-riots.jpg!Large.jpg.jpg!L...</td>\n",
       "    </tr>\n",
       "    <tr>\n",
       "      <th>1</th>\n",
       "      <td>100_they-sing-for-the-composer.jpg!Large.jpg</td>\n",
       "      <td>-17.919098</td>\n",
       "      <td>-1.251708</td>\n",
       "      <td>4</td>\n",
       "      <td>100_they-sing-for-the-composer.jpg!Large.jpg</td>\n",
       "      <td>genre painting</td>\n",
       "      <td>https://www.wikiart.org/en/francisco-goya/trip...</td>\n",
       "      <td>img/100_they-sing-for-the-composer.jpg!Large.j...</td>\n",
       "    </tr>\n",
       "    <tr>\n",
       "      <th>2</th>\n",
       "      <td>101_woman-battered-with-a-cane.jpg!Large.jpg</td>\n",
       "      <td>48.121220</td>\n",
       "      <td>-31.482098</td>\n",
       "      <td>2</td>\n",
       "      <td>101_woman-battered-with-a-cane.jpg!Large.jpg</td>\n",
       "      <td>mythological painting</td>\n",
       "      <td>https://www.wikiart.org/en/francisco-goya/the-...</td>\n",
       "      <td>img/101_woman-battered-with-a-cane.jpg!Large.j...</td>\n",
       "    </tr>\n",
       "    <tr>\n",
       "      <th>3</th>\n",
       "      <td>102_mariana-waldstein-ninth-marquesa-de-santa-...</td>\n",
       "      <td>-2.181302</td>\n",
       "      <td>-34.985844</td>\n",
       "      <td>1</td>\n",
       "      <td>102_mariana-waldstein-ninth-marquesa-de-santa-...</td>\n",
       "      <td>history painting</td>\n",
       "      <td>https://www.wikiart.org/en/francisco-goya/hani...</td>\n",
       "      <td>img/102_mariana-waldstein-ninth-marquesa-de-sa...</td>\n",
       "    </tr>\n",
       "    <tr>\n",
       "      <th>4</th>\n",
       "      <td>103_incantation.jpg!Large.jpg</td>\n",
       "      <td>12.096787</td>\n",
       "      <td>33.550594</td>\n",
       "      <td>0</td>\n",
       "      <td>103_incantation.jpg!Large.jpg</td>\n",
       "      <td>mythological painting</td>\n",
       "      <td>https://www.wikiart.org/en/francisco-goya/the-...</td>\n",
       "      <td>img/103_incantation.jpg!Large.jpg.jpg!Large.jpg</td>\n",
       "    </tr>\n",
       "    <tr>\n",
       "      <th>...</th>\n",
       "      <td>...</td>\n",
       "      <td>...</td>\n",
       "      <td>...</td>\n",
       "      <td>...</td>\n",
       "      <td>...</td>\n",
       "      <td>...</td>\n",
       "      <td>...</td>\n",
       "      <td>...</td>\n",
       "    </tr>\n",
       "    <tr>\n",
       "      <th>401</th>\n",
       "      <td>96_martín-zapater-1797.jpg!Large.jpg</td>\n",
       "      <td>-39.383232</td>\n",
       "      <td>-57.296509</td>\n",
       "      <td>3</td>\n",
       "      <td>96_martín-zapater-1797.jpg!Large.jpg</td>\n",
       "      <td>genre painting</td>\n",
       "      <td>https://www.wikiart.org/en/francisco-goya/bull...</td>\n",
       "      <td>img/96_martín-zapater-1797.jpg!Large.jpg.jpg!L...</td>\n",
       "    </tr>\n",
       "    <tr>\n",
       "      <th>402</th>\n",
       "      <td>97_naked-girl-looking-in-the-mirror.jpg!Large.jpg</td>\n",
       "      <td>48.838459</td>\n",
       "      <td>-31.383011</td>\n",
       "      <td>2</td>\n",
       "      <td>97_naked-girl-looking-in-the-mirror.jpg!Large.jpg</td>\n",
       "      <td>caricature</td>\n",
       "      <td>https://www.wikiart.org/en/francisco-goya/cons...</td>\n",
       "      <td>img/97_naked-girl-looking-in-the-mirror.jpg!La...</td>\n",
       "    </tr>\n",
       "    <tr>\n",
       "      <th>403</th>\n",
       "      <td>98_st-gregory-the-great-1797.jpg!Large.jpg</td>\n",
       "      <td>10.521857</td>\n",
       "      <td>32.977264</td>\n",
       "      <td>0</td>\n",
       "      <td>98_st-gregory-the-great-1797.jpg!Large.jpg</td>\n",
       "      <td>genre painting</td>\n",
       "      <td>https://www.wikiart.org/en/francisco-goya/dili...</td>\n",
       "      <td>img/98_st-gregory-the-great-1797.jpg!Large.jpg...</td>\n",
       "    </tr>\n",
       "    <tr>\n",
       "      <th>404</th>\n",
       "      <td>99_the-duchess-of-alba-1797.jpg!Large.jpg</td>\n",
       "      <td>-1.976642</td>\n",
       "      <td>-35.142075</td>\n",
       "      <td>1</td>\n",
       "      <td>99_the-duchess-of-alba-1797.jpg!Large.jpg</td>\n",
       "      <td>portrait</td>\n",
       "      <td>https://www.wikiart.org/en/francisco-goya/port...</td>\n",
       "      <td>img/99_the-duchess-of-alba-1797.jpg!Large.jpg....</td>\n",
       "    </tr>\n",
       "    <tr>\n",
       "      <th>405</th>\n",
       "      <td>9_circumcision.jpg!Large.jpg</td>\n",
       "      <td>11.352652</td>\n",
       "      <td>31.154028</td>\n",
       "      <td>0</td>\n",
       "      <td>9_circumcision.jpg!Large.jpg</td>\n",
       "      <td>genre painting</td>\n",
       "      <td>https://www.wikiart.org/en/francisco-goya/proc...</td>\n",
       "      <td>img/9_circumcision.jpg!Large.jpg.jpg!Large.jpg</td>\n",
       "    </tr>\n",
       "  </tbody>\n",
       "</table>\n",
       "<p>406 rows × 8 columns</p>\n",
       "</div>"
      ],
      "text/plain": [
       "                                                Ref_ID      tsne1      tsne2  \\\n",
       "0                 0_the-esquilache-riots.jpg!Large.jpg   8.333446 -44.674519   \n",
       "1         100_they-sing-for-the-composer.jpg!Large.jpg -17.919098  -1.251708   \n",
       "2         101_woman-battered-with-a-cane.jpg!Large.jpg  48.121220 -31.482098   \n",
       "3    102_mariana-waldstein-ninth-marquesa-de-santa-...  -2.181302 -34.985844   \n",
       "4                        103_incantation.jpg!Large.jpg  12.096787  33.550594   \n",
       "..                                                 ...        ...        ...   \n",
       "401               96_martín-zapater-1797.jpg!Large.jpg -39.383232 -57.296509   \n",
       "402  97_naked-girl-looking-in-the-mirror.jpg!Large.jpg  48.838459 -31.383011   \n",
       "403         98_st-gregory-the-great-1797.jpg!Large.jpg  10.521857  32.977264   \n",
       "404          99_the-duchess-of-alba-1797.jpg!Large.jpg  -1.976642 -35.142075   \n",
       "405                       9_circumcision.jpg!Large.jpg  11.352652  31.154028   \n",
       "\n",
       "     Cluster                                          file_name  \\\n",
       "0          1               0_the-esquilache-riots.jpg!Large.jpg   \n",
       "1          4       100_they-sing-for-the-composer.jpg!Large.jpg   \n",
       "2          2       101_woman-battered-with-a-cane.jpg!Large.jpg   \n",
       "3          1  102_mariana-waldstein-ninth-marquesa-de-santa-...   \n",
       "4          0                      103_incantation.jpg!Large.jpg   \n",
       "..       ...                                                ...   \n",
       "401        3               96_martín-zapater-1797.jpg!Large.jpg   \n",
       "402        2  97_naked-girl-looking-in-the-mirror.jpg!Large.jpg   \n",
       "403        0         98_st-gregory-the-great-1797.jpg!Large.jpg   \n",
       "404        1          99_the-duchess-of-alba-1797.jpg!Large.jpg   \n",
       "405        0                       9_circumcision.jpg!Large.jpg   \n",
       "\n",
       "                     genre                                                url  \\\n",
       "0         history painting  https://www.wikiart.org/en/francisco-goya/the-...   \n",
       "1           genre painting  https://www.wikiart.org/en/francisco-goya/trip...   \n",
       "2    mythological painting  https://www.wikiart.org/en/francisco-goya/the-...   \n",
       "3         history painting  https://www.wikiart.org/en/francisco-goya/hani...   \n",
       "4    mythological painting  https://www.wikiart.org/en/francisco-goya/the-...   \n",
       "..                     ...                                                ...   \n",
       "401         genre painting  https://www.wikiart.org/en/francisco-goya/bull...   \n",
       "402             caricature  https://www.wikiart.org/en/francisco-goya/cons...   \n",
       "403         genre painting  https://www.wikiart.org/en/francisco-goya/dili...   \n",
       "404               portrait  https://www.wikiart.org/en/francisco-goya/port...   \n",
       "405         genre painting  https://www.wikiart.org/en/francisco-goya/proc...   \n",
       "\n",
       "                                                 image  \n",
       "0    img/0_the-esquilache-riots.jpg!Large.jpg.jpg!L...  \n",
       "1    img/100_they-sing-for-the-composer.jpg!Large.j...  \n",
       "2    img/101_woman-battered-with-a-cane.jpg!Large.j...  \n",
       "3    img/102_mariana-waldstein-ninth-marquesa-de-sa...  \n",
       "4      img/103_incantation.jpg!Large.jpg.jpg!Large.jpg  \n",
       "..                                                 ...  \n",
       "401  img/96_martín-zapater-1797.jpg!Large.jpg.jpg!L...  \n",
       "402  img/97_naked-girl-looking-in-the-mirror.jpg!La...  \n",
       "403  img/98_st-gregory-the-great-1797.jpg!Large.jpg...  \n",
       "404  img/99_the-duchess-of-alba-1797.jpg!Large.jpg....  \n",
       "405     img/9_circumcision.jpg!Large.jpg.jpg!Large.jpg  \n",
       "\n",
       "[406 rows x 8 columns]"
      ]
     },
     "execution_count": 46,
     "metadata": {},
     "output_type": "execute_result"
    }
   ],
   "source": [
    "df"
   ]
  },
  {
   "cell_type": "markdown",
   "metadata": {},
   "source": [
    "## Añadimos al Nodo la información del Name"
   ]
  },
  {
   "cell_type": "code",
   "execution_count": 47,
   "metadata": {},
   "outputs": [],
   "source": [
    "for index, row in df.iterrows():\n",
    "    labels[index]=row['image']"
   ]
  },
  {
   "cell_type": "code",
   "execution_count": 48,
   "metadata": {},
   "outputs": [],
   "source": [
    "node=1\n",
    "for u in G.nodes():\n",
    "    G.nodes[u]['image']=labels[node-1]\n",
    "    node=node+1"
   ]
  },
  {
   "cell_type": "code",
   "execution_count": 49,
   "metadata": {},
   "outputs": [
    {
     "data": {
      "text/plain": [
       "{'nombre': '100_they-sing-for-the-composer.jpg!Large.jpg',\n",
       " 'Cluster': 4,\n",
       " 'image': 'img/100_they-sing-for-the-composer.jpg!Large.jpg.jpg!Large.jpg'}"
      ]
     },
     "execution_count": 49,
     "metadata": {},
     "output_type": "execute_result"
    }
   ],
   "source": [
    "G.nodes[1]"
   ]
  },
  {
   "cell_type": "markdown",
   "metadata": {},
   "source": [
    "## Añadimos al Nodo la información del genero"
   ]
  },
  {
   "cell_type": "code",
   "execution_count": 50,
   "metadata": {},
   "outputs": [],
   "source": [
    "for index, row in df.iterrows():\n",
    "    labels[index]=row['genre']"
   ]
  },
  {
   "cell_type": "code",
   "execution_count": 51,
   "metadata": {},
   "outputs": [],
   "source": [
    "node=1\n",
    "for u in G.nodes():\n",
    "    G.nodes[u]['genre']=labels[node-1]\n",
    "    node=node+1"
   ]
  },
  {
   "cell_type": "code",
   "execution_count": 52,
   "metadata": {},
   "outputs": [
    {
     "data": {
      "text/plain": [
       "{'nombre': '360_portrait-of-javier-goya-the-artist-s-son-1824.jpg!Large.jpg',\n",
       " 'Cluster': 4,\n",
       " 'image': 'img/360_portrait-of-javier-goya-the-artist-s-son-1824.jpg!Large.jpg.jpg!Large.jpg',\n",
       " 'genre': 'caricature'}"
      ]
     },
     "execution_count": 52,
     "metadata": {},
     "output_type": "execute_result"
    }
   ],
   "source": [
    "G.nodes[289]"
   ]
  },
  {
   "cell_type": "markdown",
   "metadata": {},
   "source": [
    "## Añadimos al Nodo la información de la url"
   ]
  },
  {
   "cell_type": "code",
   "execution_count": 53,
   "metadata": {},
   "outputs": [],
   "source": [
    "for index, row in df.iterrows():\n",
    "    labels[index]=row['url']"
   ]
  },
  {
   "cell_type": "code",
   "execution_count": 54,
   "metadata": {},
   "outputs": [],
   "source": [
    "node=1\n",
    "for u in G.nodes():\n",
    "    G.nodes[u]['url']=labels[node-1]\n",
    "    node=node+1"
   ]
  },
  {
   "cell_type": "code",
   "execution_count": 55,
   "metadata": {},
   "outputs": [
    {
     "data": {
      "text/plain": [
       "{'nombre': '360_portrait-of-javier-goya-the-artist-s-son-1824.jpg!Large.jpg',\n",
       " 'Cluster': 4,\n",
       " 'image': 'img/360_portrait-of-javier-goya-the-artist-s-son-1824.jpg!Large.jpg.jpg!Large.jpg',\n",
       " 'genre': 'caricature',\n",
       " 'url': 'https://www.wikiart.org/en/francisco-goya/here-neither-1815'}"
      ]
     },
     "execution_count": 55,
     "metadata": {},
     "output_type": "execute_result"
    }
   ],
   "source": [
    "G.nodes[289]"
   ]
  },
  {
   "cell_type": "code",
   "execution_count": 57,
   "metadata": {},
   "outputs": [],
   "source": [
    "#### Guardar el Json\n",
    "# Escribimos un JSON con los datos del grafo para la entrada en d3js\n",
    "j = json_graph.node_link_data(G)\n",
    "js = json.dumps(j, ensure_ascii=False, indent=1)\n",
    "with open(\"/home/steiner/Escritorio/Python/grafo_goya.json\",\"w\", encoding='utf-8') as file:\n",
    "    file.write(js)"
   ]
  },
  {
   "cell_type": "code",
   "execution_count": null,
   "metadata": {},
   "outputs": [],
   "source": []
  },
  {
   "cell_type": "code",
   "execution_count": null,
   "metadata": {},
   "outputs": [],
   "source": []
  }
 ],
 "metadata": {
  "kernelspec": {
   "display_name": "Python 3 (ipykernel)",
   "language": "python",
   "name": "python3"
  },
  "language_info": {
   "codemirror_mode": {
    "name": "ipython",
    "version": 3
   },
   "file_extension": ".py",
   "mimetype": "text/x-python",
   "name": "python",
   "nbconvert_exporter": "python",
   "pygments_lexer": "ipython3",
   "version": "3.9.13"
  }
 },
 "nbformat": 4,
 "nbformat_minor": 4
}
