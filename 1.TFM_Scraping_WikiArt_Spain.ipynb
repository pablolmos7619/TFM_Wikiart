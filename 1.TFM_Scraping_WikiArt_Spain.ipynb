{
 "cells": [
  {
   "cell_type": "markdown",
   "metadata": {},
   "source": [
    "### TFM. wikiScraping"
   ]
  },
  {
   "cell_type": "code",
   "execution_count": 15,
   "metadata": {},
   "outputs": [],
   "source": [
    "import requests\n",
    "import re\n",
    "from bs4 import BeautifulSoup\n",
    "import wget\n",
    "import urllib.request\n",
    "import os\n",
    "import shutil\n",
    "import json"
   ]
  },
  {
   "cell_type": "markdown",
   "metadata": {},
   "source": [
    "Creamos la funcion para scrapear Wikiart"
   ]
  },
  {
   "cell_type": "code",
   "execution_count": 23,
   "metadata": {},
   "outputs": [
    {
     "name": "stdout",
     "output_type": "stream",
     "text": [
      "francisco-goya\n",
      "https://www.wikiart.org/en/francisco-goya/all-works/text-list\n"
     ]
    },
    {
     "ename": "AttributeError",
     "evalue": "'NoneType' object has no attribute 'text'",
     "output_type": "error",
     "traceback": [
      "\u001b[0;31m---------------------------------------------------------------------------\u001b[0m",
      "\u001b[0;31mAttributeError\u001b[0m                            Traceback (most recent call last)",
      "\u001b[0;32m/tmp/ipykernel_18177/2200591089.py\u001b[0m in \u001b[0;36m<module>\u001b[0;34m\u001b[0m\n\u001b[0;32m----> 1\u001b[0;31m \u001b[0mwikiart\u001b[0m\u001b[0;34m(\u001b[0m\u001b[0;34m'francisco-goya'\u001b[0m\u001b[0;34m)\u001b[0m\u001b[0;34m\u001b[0m\u001b[0;34m\u001b[0m\u001b[0m\n\u001b[0m",
      "\u001b[0;32m/tmp/ipykernel_18177/238182607.py\u001b[0m in \u001b[0;36mwikiart\u001b[0;34m(artist)\u001b[0m\n\u001b[1;32m     42\u001b[0m                     \u001b[0mdate\u001b[0m \u001b[0;34m=\u001b[0m \u001b[0;32mNone\u001b[0m\u001b[0;34m\u001b[0m\u001b[0;34m\u001b[0m\u001b[0m\n\u001b[1;32m     43\u001b[0m \u001b[0;34m\u001b[0m\u001b[0m\n\u001b[0;32m---> 44\u001b[0;31m                 \u001b[0mtitle\u001b[0m \u001b[0;34m=\u001b[0m \u001b[0msoup\u001b[0m\u001b[0;34m.\u001b[0m\u001b[0mfind\u001b[0m\u001b[0;34m(\u001b[0m\u001b[0;34m\"h3\"\u001b[0m\u001b[0;34m,\u001b[0m \u001b[0mitemprop\u001b[0m\u001b[0;34m=\u001b[0m\u001b[0;34m\"name\"\u001b[0m\u001b[0;34m)\u001b[0m\u001b[0;34m.\u001b[0m\u001b[0mtext\u001b[0m\u001b[0;34m\u001b[0m\u001b[0;34m\u001b[0m\u001b[0m\n\u001b[0m\u001b[1;32m     45\u001b[0m \u001b[0;34m\u001b[0m\u001b[0m\n\u001b[1;32m     46\u001b[0m                 metadata.append({\n",
      "\u001b[0;31mAttributeError\u001b[0m: 'NoneType' object has no attribute 'text'"
     ]
    }
   ],
   "source": [
    "wikiart('francisco-goya')"
   ]
  },
  {
   "cell_type": "code",
   "execution_count": 22,
   "metadata": {},
   "outputs": [],
   "source": [
    "def wikiart(artist):\n",
    "    url = \"https://www.wikiart.org/en/\"+artist+\"/all-works/text-list\"\n",
    "    print(artist)\n",
    "    print(url)\n",
    "    page = requests.get(url)\n",
    "    c=page.content\n",
    "    soup=BeautifulSoup(c,\"html.parser\")\n",
    "    links = []\n",
    "    for link in soup.findAll('a', attrs={'href': re.compile(r'/en/'+ re.escape(artist)+ r'/')}):\n",
    "        links.append(\"https://www.wikiart.org\"+link.get('href'))  \n",
    "    images = []\n",
    "    metadata = []\n",
    "    for link in links:\n",
    "        html_page = urllib.request.urlopen(link)\n",
    "        soup = BeautifulSoup(html_page) \n",
    "        for img in soup.findAll('img', {'src':re.compile('.jpg')}):\n",
    "            image = img.get('src')\n",
    "            if \"banner\" not in image and \"banner_top\" not in image:\n",
    "                images.append(image)\n",
    "                style = soup.find(\"a\", text=\"estilo\")\n",
    "                if style:\n",
    "                    style = style.text\n",
    "                else:\n",
    "                    style = None\n",
    "\n",
    "                genre = soup.find(\"span\", itemprop=\"genre\")\n",
    "                if genre:\n",
    "                    genre = genre.text\n",
    "                else:\n",
    "                    genre = None\n",
    "\n",
    "                media = soup.find(\"a\", text=\"fresco\")\n",
    "                if media:\n",
    "                    media = media.text\n",
    "                else:\n",
    "                    media = None\n",
    "\n",
    "                date = soup.find(\"span\", itemprop=\"dateCreated\")\n",
    "                if date:\n",
    "                    date = date.text\n",
    "                else:\n",
    "                    date = None\n",
    "                    \n",
    "                title = soup.find(\"h3\", itemprop=\"name\").text\n",
    "                \n",
    "                metadata.append({\n",
    "                    \"title\": title,\n",
    "                    \"style\": style,\n",
    "                    \"genre\": genre,\n",
    "                    \"media\": media,\n",
    "                    \"url\": link,\n",
    "                    \"date\": date\n",
    "                })\n",
    "\n",
    "    newpath = r'/home/steiner/Escritorio/Python/pinturas/'\n",
    "    prefix = artist+\"_\"\n",
    "    if not os.path.exists(newpath):\n",
    "        os.makedirs(newpath)\n",
    "    counter = 0\n",
    "    for image in images:\n",
    "        os.chdir(newpath)\n",
    "        local_image_filename = wget.download(image)  \n",
    "        shutil.move(local_image_filename,str(counter)+\"_\"+local_image_filename)\n",
    "        counter += 1\n",
    "\n",
    "   \n",
    "\n",
    "\n",
    "    with open(newpath+\"/metadata.json\", \"w\") as f:\n",
    "        json.dump(metadata, f)\n",
    "\n"
   ]
  },
  {
   "cell_type": "code",
   "execution_count": null,
   "metadata": {},
   "outputs": [],
   "source": []
  }
 ],
 "metadata": {
  "kernelspec": {
   "display_name": "Python 3 (ipykernel)",
   "language": "python",
   "name": "python3"
  },
  "language_info": {
   "codemirror_mode": {
    "name": "ipython",
    "version": 3
   },
   "file_extension": ".py",
   "mimetype": "text/x-python",
   "name": "python",
   "nbconvert_exporter": "python",
   "pygments_lexer": "ipython3",
   "version": "3.9.13"
  }
 },
 "nbformat": 4,
 "nbformat_minor": 4
}
