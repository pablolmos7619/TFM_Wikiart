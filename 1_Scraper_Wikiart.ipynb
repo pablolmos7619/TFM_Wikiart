{
 "cells": [
  {
   "cell_type": "code",
   "execution_count": 1,
   "id": "52fa23e2-b973-4af6-8a6a-1d6bcee707a5",
   "metadata": {},
   "outputs": [
    {
     "name": "stdout",
     "output_type": "stream",
     "text": [
      "True\n"
     ]
    }
   ],
   "source": [
    "import torch\n",
    "print(torch.cuda.is_available())\n"
   ]
  },
  {
   "cell_type": "markdown",
   "id": "af77d007-c4f8-4db1-bd49-093981601447",
   "metadata": {},
   "source": [
    "## alo mother fucker"
   ]
  },
  {
   "cell_type": "code",
   "execution_count": 1,
   "id": "53d323f0-8912-4bcb-8ecc-b7299bfa7f91",
   "metadata": {},
   "outputs": [
    {
     "name": "stdout",
     "output_type": "stream",
     "text": [
      "True\n"
     ]
    }
   ],
   "source": [
    "import torch\n",
    "print(torch.cuda.is_available())"
   ]
  },
  {
   "cell_type": "code",
   "execution_count": null,
   "id": "4106758f-3a82-475d-9278-3391ecb367f5",
   "metadata": {},
   "outputs": [],
   "source": []
  }
 ],
 "metadata": {
  "kernelspec": {
   "display_name": "Python 3 (ipykernel)",
   "language": "python",
   "name": "python3"
  },
  "language_info": {
   "codemirror_mode": {
    "name": "ipython",
    "version": 3
   },
   "file_extension": ".py",
   "mimetype": "text/x-python",
   "name": "python",
   "nbconvert_exporter": "python",
   "pygments_lexer": "ipython3",
   "version": "3.9.13"
  }
 },
 "nbformat": 4,
 "nbformat_minor": 5
}
